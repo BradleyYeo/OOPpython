{
 "cells": [
  {
   "cell_type": "code",
   "execution_count": 27,
   "metadata": {
    "collapsed": true
   },
   "outputs": [],
   "source": [
    "from functools import total_ordering\n",
    "@total_ordering\n",
    "class Dog:\n",
    "    def __init__(self, name, age):\n",
    "        self.name = name\n",
    "        self.age = age\n",
    "        print(f'{self.name}')\n",
    "\n",
    "    def __repr__(self):\n",
    "        return f\"Dog object with name {self.name}\"\n",
    "\n",
    "    def __add__(self, other):\n",
    "        if isinstance(other, Dog):\n",
    "            print(f\"A puppy is {self.age} years old\")\n",
    "            return Dog(\"Pup\", 0)\n",
    "        else:\n",
    "            print(\"Can't cross species!\")\n",
    "            return None\n",
    "\n",
    "    def __eq__(self, other):\n",
    "        if self.name == other.name:\n",
    "            print(\"Both dogs have the same name\")\n",
    "        else:\n",
    "            print(\"Both dogs have the DIFF name\")\n",
    "\n",
    "    def __lt__(self, other):\n",
    "        if self.age < other.age:\n",
    "            return f\"{self.name} is the youngest\"\n",
    "        else:\n",
    "            return f\"{other.name} is the youngest\""
   ]
  },
  {
   "cell_type": "code",
   "execution_count": 28,
   "outputs": [
    {
     "name": "stdout",
     "output_type": "stream",
     "text": [
      "Fido\n",
      "Stinky\n",
      "Chubby\n",
      "Dog object with name Fido\n"
     ]
    }
   ],
   "source": [
    "d1 = Dog(\"Fido\", 7)\n",
    "d2 = Dog(\"Stinky\", 4)\n",
    "d3 = Dog(\"Chubby\",5)\n",
    "print(d1)"
   ],
   "metadata": {
    "collapsed": false,
    "pycharm": {
     "name": "#%%\n"
    }
   }
  },
  {
   "cell_type": "code",
   "execution_count": 16,
   "outputs": [
    {
     "name": "stdout",
     "output_type": "stream",
     "text": [
      "A puppy is 3 years old\n",
      "Pup\n"
     ]
    }
   ],
   "source": [
    "pup = d1 + d2"
   ],
   "metadata": {
    "collapsed": false,
    "pycharm": {
     "name": "#%%\n"
    }
   }
  },
  {
   "cell_type": "code",
   "execution_count": 17,
   "outputs": [
    {
     "name": "stdout",
     "output_type": "stream",
     "text": [
      "Fido is younger\n",
      "None\n"
     ]
    }
   ],
   "source": [
    "print(d1 < d2)"
   ],
   "metadata": {
    "collapsed": false,
    "pycharm": {
     "name": "#%%\n"
    }
   }
  },
  {
   "cell_type": "code",
   "execution_count": 18,
   "outputs": [
    {
     "name": "stdout",
     "output_type": "stream",
     "text": [
      "Hello\n"
     ]
    }
   ],
   "source": [
    "print(\"Hello\")\n"
   ],
   "metadata": {
    "collapsed": false,
    "pycharm": {
     "name": "#%%\n"
    }
   }
  },
  {
   "cell_type": "code",
   "execution_count": 19,
   "outputs": [
    {
     "name": "stdout",
     "output_type": "stream",
     "text": [
      "Fido is younger\n",
      "Both dogs have the DIFF name\n",
      "True\n"
     ]
    }
   ],
   "source": [
    "print(d1>d2)"
   ],
   "metadata": {
    "collapsed": false,
    "pycharm": {
     "name": "#%%\n"
    }
   }
  },
  {
   "cell_type": "code",
   "execution_count": 22,
   "outputs": [
    {
     "name": "stdout",
     "output_type": "stream",
     "text": [
      "A puppy is 0 years old\n",
      "Pup\n",
      "Fido is younger\n",
      "None\n"
     ]
    }
   ],
   "source": [
    "pup2 = pup+ d3"
   ],
   "metadata": {
    "collapsed": false,
    "pycharm": {
     "name": "#%%\n"
    }
   }
  },
  {
   "cell_type": "code",
   "execution_count": 29,
   "outputs": [
    {
     "name": "stdout",
     "output_type": "stream",
     "text": [
      "Stinky is the youngest\n"
     ]
    }
   ],
   "source": [
    "print(d1<d2<d3)\n"
   ],
   "metadata": {
    "collapsed": false,
    "pycharm": {
     "name": "#%%\n"
    }
   }
  },
  {
   "cell_type": "code",
   "execution_count": 32,
   "outputs": [],
   "source": [
    "from functools import total_ordering\n",
    "@total_ordering\n",
    "class Account:\n",
    "    def __init__(self, holder, number, value=0):\n",
    "        self.holder = holder\n",
    "        self.number = number\n",
    "        self.value = value\n",
    "        self.transactions = [value]\n",
    "\n",
    "    def __repr__(self):\n",
    "        return f\"Holder name is {self.holder}, number: {self.number} \" \\\n",
    "               f\"Balance: {self.value}\"\n",
    "\n",
    "    def __add__(self, other):\n",
    "        return sum(self.value, other.value)\n",
    "\n",
    "    def __eq__(self, other):\n",
    "        return self.value == other.value\n",
    "\n",
    "    def __lt__(self, other):\n",
    "        return self.value < other.value\n",
    "\n",
    "    def get_balance(self):\n",
    "        return sum(self.transactions)\n",
    "\n",
    "    def add_transaction(self, amount):\n",
    "        self.transactions.append(amount)\n",
    "        self.value = self.get_balance()\n",
    "        return f\"New Transaction: {amount}. \" \\\n",
    "               f\"Account balance: {self.value}\"\n"
   ],
   "metadata": {
    "collapsed": false,
    "pycharm": {
     "name": "#%%\n"
    }
   }
  },
  {
   "cell_type": "code",
   "execution_count": 5,
   "outputs": [],
   "source": [
    "import pandas as pd"
   ],
   "metadata": {
    "collapsed": false,
    "pycharm": {
     "name": "#%%\n"
    }
   }
  },
  {
   "cell_type": "code",
   "execution_count": 6,
   "outputs": [],
   "source": [
    "cars = {'Brand': ['Honda Civic','Toyota Corolla','Ford Focus','Audi A4'],\n",
    "        'Price': [22000,25000,27000,35000]\n",
    "        }\n",
    "\n",
    "df = pd.DataFrame(cars, columns = ['Brand', 'Price'])"
   ],
   "metadata": {
    "collapsed": false,
    "pycharm": {
     "name": "#%%\n"
    }
   }
  },
  {
   "cell_type": "code",
   "execution_count": 7,
   "outputs": [
    {
     "data": {
      "text/plain": "            Brand  Price\n0     Honda Civic  22000\n1  Toyota Corolla  25000\n2      Ford Focus  27000\n3         Audi A4  35000",
      "text/html": "<div>\n<style scoped>\n    .dataframe tbody tr th:only-of-type {\n        vertical-align: middle;\n    }\n\n    .dataframe tbody tr th {\n        vertical-align: top;\n    }\n\n    .dataframe thead th {\n        text-align: right;\n    }\n</style>\n<table border=\"1\" class=\"dataframe\">\n  <thead>\n    <tr style=\"text-align: right;\">\n      <th></th>\n      <th>Brand</th>\n      <th>Price</th>\n    </tr>\n  </thead>\n  <tbody>\n    <tr>\n      <th>0</th>\n      <td>Honda Civic</td>\n      <td>22000</td>\n    </tr>\n    <tr>\n      <th>1</th>\n      <td>Toyota Corolla</td>\n      <td>25000</td>\n    </tr>\n    <tr>\n      <th>2</th>\n      <td>Ford Focus</td>\n      <td>27000</td>\n    </tr>\n    <tr>\n      <th>3</th>\n      <td>Audi A4</td>\n      <td>35000</td>\n    </tr>\n  </tbody>\n</table>\n</div>"
     },
     "execution_count": 7,
     "metadata": {},
     "output_type": "execute_result"
    }
   ],
   "source": [
    "df"
   ],
   "metadata": {
    "collapsed": false,
    "pycharm": {
     "name": "#%%\n"
    }
   }
  },
  {
   "cell_type": "code",
   "execution_count": 8,
   "outputs": [
    {
     "name": "stdout",
     "output_type": "stream",
     "text": [
      "['/Users/Bradley/PycharmProjects/OOPpython', '/Users/Bradley/PycharmProjects/OOPpython', '/Library/Frameworks/Python.framework/Versions/3.8/lib/python38.zip', '/Library/Frameworks/Python.framework/Versions/3.8/lib/python3.8', '/Library/Frameworks/Python.framework/Versions/3.8/lib/python3.8/lib-dynload', '', '/Users/Bradley/Library/Python/3.8/lib/python/site-packages', '/Library/Frameworks/Python.framework/Versions/3.8/lib/python3.8/site-packages', '/Users/Bradley/Library/Python/3.8/lib/python/site-packages/IPython/extensions', '/Users/Bradley/.ipython', '/Applications/PyCharm.app/Contents/plugins/python/helpers/pydev', '/Applications/PyCharm.app/Contents/plugins/python/helpers-pro/jupyter_debug']\n"
     ]
    }
   ],
   "source": [
    "import sys\n",
    "print(sys.path)"
   ],
   "metadata": {
    "collapsed": false,
    "pycharm": {
     "name": "#%%\n"
    }
   }
  },
  {
   "cell_type": "code",
   "execution_count": null,
   "outputs": [],
   "source": [],
   "metadata": {
    "collapsed": false,
    "pycharm": {
     "name": "#%%\n"
    }
   }
  }
 ],
 "metadata": {
  "kernelspec": {
   "name": "python3",
   "language": "python",
   "display_name": "Python 3"
  },
  "language_info": {
   "codemirror_mode": {
    "name": "ipython",
    "version": 2
   },
   "file_extension": ".py",
   "mimetype": "text/x-python",
   "name": "python",
   "nbconvert_exporter": "python",
   "pygments_lexer": "ipython2",
   "version": "2.7.6"
  }
 },
 "nbformat": 4,
 "nbformat_minor": 0
}